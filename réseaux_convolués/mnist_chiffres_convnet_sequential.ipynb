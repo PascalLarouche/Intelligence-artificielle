{
  "cells": [
    {
      "cell_type": "markdown",
      "metadata": {
        "id": "view-in-github",
        "colab_type": "text"
      },
      "source": [
        "<a href=\"https://colab.research.google.com/github/PascalLarouche/Intelligence-artificielle/blob/main/mnist_chiffres_convnet_sequential.ipynb\" target=\"_parent\"><img src=\"https://colab.research.google.com/assets/colab-badge.svg\" alt=\"Open In Colab\"/></a>"
      ]
    },
    {
      "cell_type": "markdown",
      "metadata": {
        "id": "ePd2nAHubLGZ"
      },
      "source": [
        "# Chargement des modules"
      ]
    },
    {
      "cell_type": "code",
      "execution_count": null,
      "metadata": {
        "id": "vN6-1SoCEuxM"
      },
      "outputs": [],
      "source": [
        "# Sequential permet d'assembler le réseau.\n",
        "from keras import Sequential\n",
        "# Pour importer les données directement de Keras.\n",
        "from keras.datasets import mnist\n",
        "# Pour encoder les étiquettes.\n",
        "from keras.utils import to_categorical\n",
        "# Les 5 types de couches pour construire le réseau.\n",
        "from keras.layers import Dense, Conv2D, Dropout, Flatten, Input, MaxPooling2D\n",
        "# Le module de base pour manipuler des données.\n",
        "import numpy as np\n",
        "# Le module habituel pour tracer des graphiques.\n",
        "import matplotlib.pyplot as plt"
      ]
    },
    {
      "cell_type": "markdown",
      "metadata": {
        "id": "vk0KuLPrN1rl"
      },
      "source": [
        "# Préparation des données"
      ]
    },
    {
      "cell_type": "code",
      "execution_count": null,
      "metadata": {
        "id": "N_uQiHFZFZXZ",
        "colab": {
          "base_uri": "https://localhost:8080/"
        },
        "outputId": "828332c8-33c6-48b0-d969-70e2b76ff89b"
      },
      "outputs": [
        {
          "output_type": "stream",
          "name": "stdout",
          "text": [
            "Downloading data from https://storage.googleapis.com/tensorflow/tf-keras-datasets/mnist.npz\n",
            "11490434/11490434 [==============================] - 0s 0us/step\n"
          ]
        }
      ],
      "source": [
        "# Il y a 10 classes différentes.\n",
        "num_classes = 10\n",
        "# Les images sont petites et en niveaux de gris.\n",
        "input_shape = (28, 28, 1)\n",
        "# Les données MNIST sont comprises dans Keras.\n",
        "# x_train est l'image et y_train l'étiquette correspondante.\n",
        "(x_train_brut, y_train), (x_test_brut, y_test) = mnist.load_data()"
      ]
    },
    {
      "cell_type": "code",
      "source": [
        "print(f\"Dimensions de l'ensemble des images d'entraînement : {x_train_brut.shape}\")\n",
        "print(f\"Dimensions de l'ensemble des étiquettes d'entraînement : {y_train.shape}\")"
      ],
      "metadata": {
        "colab": {
          "base_uri": "https://localhost:8080/"
        },
        "id": "qiMTNKcpCbsM",
        "outputId": "40a18e03-39e6-4db0-bf01-63636cc094ab"
      },
      "execution_count": null,
      "outputs": [
        {
          "output_type": "stream",
          "name": "stdout",
          "text": [
            "Dimensions de l'ensemble des images d'entraînement : (60000, 28, 28)\n",
            "Dimensions de l'ensemble des étiquettes d'entraînement : (60000,)\n"
          ]
        }
      ]
    },
    {
      "cell_type": "code",
      "source": [
        "# La douzième image du jeu de données est le chiffre 3.\n",
        "x_train_brut[12]"
      ],
      "metadata": {
        "colab": {
          "base_uri": "https://localhost:8080/",
          "height": 68
        },
        "id": "MA9FI7jrqXR4",
        "outputId": "9de1a9c2-f67d-4304-e6da-676cf8e4267d"
      },
      "execution_count": null,
      "outputs": [
        {
          "output_type": "execute_result",
          "data": {
            "text/plain": [
              "array([[  0,   0,   0,   0,   0,   0,   0,   0,   0,   0,   0,   0,   0,\n",
              "          0,   0,   0,   0,   0,   0,   0,   0,   0,   0,   0,   0,   0,\n",
              "          0,   0],\n",
              "       [  0,   0,   0,   0,   0,   0,   0,   0,   0,   0,   0,   0,   0,\n",
              "          0,   0,   0,   0,   0,   0,   0,   0,   0,   0,   0,   0,   0,\n",
              "          0,   0],\n",
              "       [  0,   0,   0,   0,   0,   0,   0,   0,   0,   0,   0,   0,   0,\n",
              "          0,   0,   0,   0,   0,   0,   0,   0,   0,   0,   0,   0,   0,\n",
              "          0,   0],\n",
              "       [  0,   0,   0,   0,   0,   0,   0,   0,   0,   0,   0,   0,   0,\n",
              "          0,   0,   0,   0,   0,   0,   0,   0,   0,   0,   0,   0,   0,\n",
              "          0,   0],\n",
              "       [  0,   0,   0,   0,   0,   0,   0,   0,   0,   0,   0,   0,   0,\n",
              "          0,   0,   0,   0,   0,   0,   0,   0,   0,   0,   0,   0,   0,\n",
              "          0,   0],\n",
              "       [  0,   0,   0,  12,  99,  91, 142, 155, 246, 182, 155, 155, 155,\n",
              "        155, 131,  52,   0,   0,   0,   0,   0,   0,   0,   0,   0,   0,\n",
              "          0,   0],\n",
              "       [  0,   0,   0, 138, 254, 254, 254, 254, 254, 254, 254, 254, 254,\n",
              "        254, 254, 252, 210, 122,  33,   0,   0,   0,   0,   0,   0,   0,\n",
              "          0,   0],\n",
              "       [  0,   0,   0, 220, 254, 254, 254, 235, 189, 189, 189, 189, 150,\n",
              "        189, 205, 254, 254, 254,  75,   0,   0,   0,   0,   0,   0,   0,\n",
              "          0,   0],\n",
              "       [  0,   0,   0,  35,  74,  35,  35,  25,   0,   0,   0,   0,   0,\n",
              "          0,  13, 224, 254, 254, 153,   0,   0,   0,   0,   0,   0,   0,\n",
              "          0,   0],\n",
              "       [  0,   0,   0,   0,   0,   0,   0,   0,   0,   0,   0,   0,   0,\n",
              "          0,  90, 254, 254, 247,  53,   0,   0,   0,   0,   0,   0,   0,\n",
              "          0,   0],\n",
              "       [  0,   0,   0,   0,   0,   0,   0,   0,   0,   0,   0,   0,   6,\n",
              "        152, 246, 254, 254,  49,   0,   0,   0,   0,   0,   0,   0,   0,\n",
              "          0,   0],\n",
              "       [  0,   0,   0,   0,   0,   0,   0,   0,   0,   0,   0,  66, 158,\n",
              "        254, 254, 249, 103,   8,   0,   0,   0,   0,   0,   0,   0,   0,\n",
              "          0,   0],\n",
              "       [  0,   0,   0,   0,   0,   0,   0,   0,   0,   0,  54, 251, 254,\n",
              "        254, 254, 248,  74,   5,   0,   0,   0,   0,   0,   0,   0,   0,\n",
              "          0,   0],\n",
              "       [  0,   0,   0,   0,   0,   0,   0,   0,   0,   0, 140, 254, 254,\n",
              "        254, 254, 254, 254, 202, 125,  45,   0,   0,   0,   0,   0,   0,\n",
              "          0,   0],\n",
              "       [  0,   0,   0,   0,   0,   0,   0,   0,   0,   0,  58, 181, 234,\n",
              "        254, 254, 254, 254, 254, 254, 252, 140,  22,   0,   0,   0,   0,\n",
              "          0,   0],\n",
              "       [  0,   0,   0,   0,   0,   0,   0,   0,   0,   0,   0,   0,  30,\n",
              "         50,  73, 155, 253, 254, 254, 254, 254, 191,   2,   0,   0,   0,\n",
              "          0,   0],\n",
              "       [  0,   0,   0,   0,   0,   0,   0,   0,   0,   0,   0,   0,   0,\n",
              "          0,   0,   0,  91, 200, 254, 254, 254, 254, 118,   0,   0,   0,\n",
              "          0,   0],\n",
              "       [  0,   0,   0,   0,   0,   0,   0,   0,   0,   0,   0,   0,   0,\n",
              "          0,   0,   0,   0,   4, 192, 254, 254, 254, 154,   0,   0,   0,\n",
              "          0,   0],\n",
              "       [  0,   0,   0,   0,   0,   0,   0,   0,   0,   0,   0,   0,   0,\n",
              "          0,   0,   0,   0,   0, 141, 254, 254, 254, 116,   0,   0,   0,\n",
              "          0,   0],\n",
              "       [  0,   0,   0,   0,   0,   0,   0,   0,  25, 126,  86,   0,   0,\n",
              "          0,   0,   0,   0,   3, 188, 254, 254, 250,  61,   0,   0,   0,\n",
              "          0,   0],\n",
              "       [  0,   0,   0,   0,   0,   0,   0,  24, 209, 254,  15,   0,   0,\n",
              "          0,   0,   0,  23, 137, 254, 254, 254, 209,   0,   0,   0,   0,\n",
              "          0,   0],\n",
              "       [  0,   0,   0,   0,   0,   0,   0, 168, 254, 254,  48,   9,   0,\n",
              "          0,   9, 127, 241, 254, 254, 255, 242,  63,   0,   0,   0,   0,\n",
              "          0,   0],\n",
              "       [  0,   0,   0,   0,   0,   0,   0, 101, 254, 254, 254, 205, 190,\n",
              "        190, 205, 254, 254, 254, 254, 242,  67,   0,   0,   0,   0,   0,\n",
              "          0,   0],\n",
              "       [  0,   0,   0,   0,   0,   0,   0,  33, 166, 254, 254, 254, 254,\n",
              "        254, 254, 254, 254, 250, 138,  55,   0,   0,   0,   0,   0,   0,\n",
              "          0,   0],\n",
              "       [  0,   0,   0,   0,   0,   0,   0,   0,   7,  88, 154, 116, 194,\n",
              "        194, 154, 154,  88,  49,   0,   0,   0,   0,   0,   0,   0,   0,\n",
              "          0,   0],\n",
              "       [  0,   0,   0,   0,   0,   0,   0,   0,   0,   0,   0,   0,   0,\n",
              "          0,   0,   0,   0,   0,   0,   0,   0,   0,   0,   0,   0,   0,\n",
              "          0,   0],\n",
              "       [  0,   0,   0,   0,   0,   0,   0,   0,   0,   0,   0,   0,   0,\n",
              "          0,   0,   0,   0,   0,   0,   0,   0,   0,   0,   0,   0,   0,\n",
              "          0,   0],\n",
              "       [  0,   0,   0,   0,   0,   0,   0,   0,   0,   0,   0,   0,   0,\n",
              "          0,   0,   0,   0,   0,   0,   0,   0,   0,   0,   0,   0,   0,\n",
              "          0,   0]], dtype=uint8)"
            ],
            "text/html": [
              "<style>\n",
              "      .ndarray_repr .ndarray_raw_data {\n",
              "        display: none;\n",
              "      }\n",
              "      .ndarray_repr.show_array .ndarray_raw_data {\n",
              "        display: block;\n",
              "      }\n",
              "      .ndarray_repr.show_array .ndarray_image_preview {\n",
              "        display: none;\n",
              "      }\n",
              "      </style>\n",
              "      <div id=\"id-151467ad-2782-4259-ba63-d13d878ba440\" class=\"ndarray_repr\"><pre>ndarray (28, 28) <button style=\"padding: 0 2px;\">show data</button></pre><img src=\"data:image/png;base64,iVBORw0KGgoAAAANSUhEUgAAABwAAAAcCAAAAABXZoBIAAABDklEQVR4nM2RvS9DYRjFT3030TChi6TuYBJKkFgkNWlCYiHRWfwHBglmTf8AH4lRrIauV0fEjbSTNgaLRCQGHSiuH8N1w1tvN4MzPXl/z3lzTh7pnykiqXOpNhbLFG4l3R1f1C1k+ZZfWk8YzusB6aEkqTzYnZTm8j+dTtpx4sEYu4HdRhGW4Xncjtp2niBpZ6kDeFntsLKJN6CWbrXCXFDmfGPIAqfy919dcz0W3D86u/8OcNJkT5U5BVizQ7UUgD1J0m+/70mqmDC+uRgMzcOSf2bs9xXpkiT1bgNF87MjGIlK0a1H+KhOm3AF8FzXA6jO1MVIHIbnfs1Oho+RcGhfSFXmdSW3fNmg45/pE8oAf9wKlFhvAAAAAElFTkSuQmCC\" class=\"ndarray_image_preview\" /><pre class=\"ndarray_raw_data\">array([[  0,   0,   0,   0,   0,   0,   0,   0,   0,   0,   0,   0,   0,\n",
              "          0,   0,   0,   0,   0,   0,   0,   0,   0,   0,   0,   0,   0,\n",
              "          0,   0],\n",
              "       [  0,   0,   0,   0,   0,   0,   0,   0,   0,   0,   0,   0,   0,\n",
              "          0,   0,   0,   0,   0,   0,   0,   0,   0,   0,   0,   0,   0,\n",
              "          0,   0],\n",
              "       [  0,   0,   0,   0,   0,   0,   0,   0,   0,   0,   0,   0,   0,\n",
              "          0,   0,   0,   0,   0,   0,   0,   0,   0,   0,   0,   0,   0,\n",
              "          0,   0],\n",
              "       [  0,   0,   0,   0,   0,   0,   0,   0,   0,   0,   0,   0,   0,\n",
              "          0,   0,   0,   0,   0,   0,   0,   0,   0,   0,   0,   0,   0,\n",
              "          0,   0],\n",
              "       [  0,   0,   0,   0,   0,   0,   0,   0,   0,   0,   0,   0,   0,\n",
              "          0,   0,   0,   0,   0,   0,   0,   0,   0,   0,   0,   0,   0,\n",
              "          0,   0],\n",
              "       [  0,   0,   0,  12,  99,  91, 142, 155, 246, 182, 155, 155, 155,\n",
              "        155, 131,  52,   0,   0,   0,   0,   0,   0,   0,   0,   0,   0,\n",
              "          0,   0],\n",
              "       [  0,   0,   0, 138, 254, 254, 254, 254, 254, 254, 254, 254, 254,\n",
              "        254, 254, 252, 210, 122,  33,   0,   0,   0,   0,   0,   0,   0,\n",
              "          0,   0],\n",
              "       [  0,   0,   0, 220, 254, 254, 254, 235, 189, 189, 189, 189, 150,\n",
              "        189, 205, 254, 254, 254,  75,   0,   0,   0,   0,   0,   0,   0,\n",
              "          0,   0],\n",
              "       [  0,   0,   0,  35,  74,  35,  35,  25,   0,   0,   0,   0,   0,\n",
              "          0,  13, 224, 254, 254, 153,   0,   0,   0,   0,   0,   0,   0,\n",
              "          0,   0],\n",
              "       [  0,   0,   0,   0,   0,   0,   0,   0,   0,   0,   0,   0,   0,\n",
              "          0,  90, 254, 254, 247,  53,   0,   0,   0,   0,   0,   0,   0,\n",
              "          0,   0],\n",
              "       [  0,   0,   0,   0,   0,   0,   0,   0,   0,   0,   0,   0,   6,\n",
              "        152, 246, 254, 254,  49,   0,   0,   0,   0,   0,   0,   0,   0,\n",
              "          0,   0],\n",
              "       [  0,   0,   0,   0,   0,   0,   0,   0,   0,   0,   0,  66, 158,\n",
              "        254, 254, 249, 103,   8,   0,   0,   0,   0,   0,   0,   0,   0,\n",
              "          0,   0],\n",
              "       [  0,   0,   0,   0,   0,   0,   0,   0,   0,   0,  54, 251, 254,\n",
              "        254, 254, 248,  74,   5,   0,   0,   0,   0,   0,   0,   0,   0,\n",
              "          0,   0],\n",
              "       [  0,   0,   0,   0,   0,   0,   0,   0,   0,   0, 140, 254, 254,\n",
              "        254, 254, 254, 254, 202, 125,  45,   0,   0,   0,   0,   0,   0,\n",
              "          0,   0],\n",
              "       [  0,   0,   0,   0,   0,   0,   0,   0,   0,   0,  58, 181, 234,\n",
              "        254, 254, 254, 254, 254, 254, 252, 140,  22,   0,   0,   0,   0,\n",
              "          0,   0],\n",
              "       [  0,   0,   0,   0,   0,   0,   0,   0,   0,   0,   0,   0,  30,\n",
              "         50,  73, 155, 253, 254, 254, 254, 254, 191,   2,   0,   0,   0,\n",
              "          0,   0],\n",
              "       [  0,   0,   0,   0,   0,   0,   0,   0,   0,   0,   0,   0,   0,\n",
              "          0,   0,   0,  91, 200, 254, 254, 254, 254, 118,   0,   0,   0,\n",
              "          0,   0],\n",
              "       [  0,   0,   0,   0,   0,   0,   0,   0,   0,   0,   0,   0,   0,\n",
              "          0,   0,   0,   0,   4, 192, 254, 254, 254, 154,   0,   0,   0,\n",
              "          0,   0],\n",
              "       [  0,   0,   0,   0,   0,   0,   0,   0,   0,   0,   0,   0,   0,\n",
              "          0,   0,   0,   0,   0, 141, 254, 254, 254, 116,   0,   0,   0,\n",
              "          0,   0],\n",
              "       [  0,   0,   0,   0,   0,   0,   0,   0,  25, 126,  86,   0,   0,\n",
              "          0,   0,   0,   0,   3, 188, 254, 254, 250,  61,   0,   0,   0,\n",
              "          0,   0],\n",
              "       [  0,   0,   0,   0,   0,   0,   0,  24, 209, 254,  15,   0,   0,\n",
              "          0,   0,   0,  23, 137, 254, 254, 254, 209,   0,   0,   0,   0,\n",
              "          0,   0],\n",
              "       [  0,   0,   0,   0,   0,   0,   0, 168, 254, 254,  48,   9,   0,\n",
              "          0,   9, 127, 241, 254, 254, 255, 242,  63,   0,   0,   0,   0,\n",
              "          0,   0],\n",
              "       [  0,   0,   0,   0,   0,   0,   0, 101, 254, 254, 254, 205, 190,\n",
              "        190, 205, 254, 254, 254, 254, 242,  67,   0,   0,   0,   0,   0,\n",
              "          0,   0],\n",
              "       [  0,   0,   0,   0,   0,   0,   0,  33, 166, 254, 254, 254, 254,\n",
              "        254, 254, 254, 254, 250, 138,  55,   0,   0,   0,   0,   0,   0,\n",
              "          0,   0],\n",
              "       [  0,   0,   0,   0,   0,   0,   0,   0,   7,  88, 154, 116, 194,\n",
              "        194, 154, 154,  88,  49,   0,   0,   0,   0,   0,   0,   0,   0,\n",
              "          0,   0],\n",
              "       [  0,   0,   0,   0,   0,   0,   0,   0,   0,   0,   0,   0,   0,\n",
              "          0,   0,   0,   0,   0,   0,   0,   0,   0,   0,   0,   0,   0,\n",
              "          0,   0],\n",
              "       [  0,   0,   0,   0,   0,   0,   0,   0,   0,   0,   0,   0,   0,\n",
              "          0,   0,   0,   0,   0,   0,   0,   0,   0,   0,   0,   0,   0,\n",
              "          0,   0],\n",
              "       [  0,   0,   0,   0,   0,   0,   0,   0,   0,   0,   0,   0,   0,\n",
              "          0,   0,   0,   0,   0,   0,   0,   0,   0,   0,   0,   0,   0,\n",
              "          0,   0]], dtype=uint8)</pre></div><script>\n",
              "      (() => {\n",
              "      const titles = ['show data', 'hide data'];\n",
              "      let index = 0\n",
              "      document.querySelector('#id-151467ad-2782-4259-ba63-d13d878ba440 button').onclick = (e) => {\n",
              "        document.querySelector('#id-151467ad-2782-4259-ba63-d13d878ba440').classList.toggle('show_array');\n",
              "        index = (++index) % 2;\n",
              "        document.querySelector('#id-151467ad-2782-4259-ba63-d13d878ba440 button').textContent = titles[index];\n",
              "        e.preventDefault();\n",
              "        e.stopPropagation();\n",
              "      }\n",
              "      })();\n",
              "    </script>"
            ]
          },
          "metadata": {},
          "execution_count": 4
        }
      ]
    },
    {
      "cell_type": "code",
      "source": [
        "# La douzième étiquette est 3 : ce n'est pas un vecteur.\n",
        "y_train[12]"
      ],
      "metadata": {
        "colab": {
          "base_uri": "https://localhost:8080/"
        },
        "id": "I0FGC8uwQdqt",
        "outputId": "dd040aae-9afa-4c90-9981-4d9bc4225087"
      },
      "execution_count": null,
      "outputs": [
        {
          "output_type": "execute_result",
          "data": {
            "text/plain": [
              "3"
            ]
          },
          "metadata": {},
          "execution_count": 5
        }
      ]
    },
    {
      "cell_type": "code",
      "execution_count": null,
      "metadata": {
        "id": "ooO6NYWNbykN",
        "colab": {
          "base_uri": "https://localhost:8080/"
        },
        "outputId": "3ab544f7-21ef-42ed-ed69-cf24741e07e1"
      },
      "outputs": [
        {
          "output_type": "execute_result",
          "data": {
            "text/plain": [
              "(28, 28)"
            ]
          },
          "metadata": {},
          "execution_count": 6
        }
      ],
      "source": [
        "x_train_brut[1].shape"
      ]
    },
    {
      "cell_type": "code",
      "execution_count": null,
      "metadata": {
        "id": "MUngef2ibscR"
      },
      "outputs": [],
      "source": [
        "# Les données doivent toujours est normalisées (varier entre 0 et 1).\n",
        "x_train = x_train_brut.astype(\"float32\") / 255\n",
        "x_test = x_test_brut.astype(\"float32\") / 255"
      ]
    },
    {
      "cell_type": "code",
      "execution_count": null,
      "metadata": {
        "colab": {
          "base_uri": "https://localhost:8080/"
        },
        "id": "1d0CVzoxcKw8",
        "outputId": "255f33d1-c057-4ed5-ae85-c364408d5e1b"
      },
      "outputs": [
        {
          "output_type": "execute_result",
          "data": {
            "text/plain": [
              "(28, 28)"
            ]
          },
          "metadata": {},
          "execution_count": 8
        }
      ],
      "source": [
        "x_train[1].shape"
      ]
    },
    {
      "cell_type": "code",
      "source": [
        "x_train_brut[1,12,7]"
      ],
      "metadata": {
        "colab": {
          "base_uri": "https://localhost:8080/"
        },
        "id": "-YZ2j5_ntaHQ",
        "outputId": "9d21ecd7-228c-482d-e7b4-eb130ceded36"
      },
      "execution_count": null,
      "outputs": [
        {
          "output_type": "execute_result",
          "data": {
            "text/plain": [
              "7"
            ]
          },
          "metadata": {},
          "execution_count": 9
        }
      ]
    },
    {
      "cell_type": "code",
      "execution_count": null,
      "metadata": {
        "colab": {
          "base_uri": "https://localhost:8080/"
        },
        "id": "4hXvSi-dID4r",
        "outputId": "816783da-b94f-4288-daf3-ab98fea505b0"
      },
      "outputs": [
        {
          "output_type": "execute_result",
          "data": {
            "text/plain": [
              "0.02745098"
            ]
          },
          "metadata": {},
          "execution_count": 10
        }
      ],
      "source": [
        "x_train[1,12,7]"
      ]
    },
    {
      "cell_type": "code",
      "source": [
        "7/255"
      ],
      "metadata": {
        "colab": {
          "base_uri": "https://localhost:8080/"
        },
        "id": "3Wyum28WtvW5",
        "outputId": "59af6309-912b-4506-db57-234bb8721df1"
      },
      "execution_count": null,
      "outputs": [
        {
          "output_type": "execute_result",
          "data": {
            "text/plain": [
              "0.027450980392156862"
            ]
          },
          "metadata": {},
          "execution_count": 11
        }
      ]
    },
    {
      "cell_type": "code",
      "execution_count": null,
      "metadata": {
        "colab": {
          "base_uri": "https://localhost:8080/"
        },
        "id": "0ix0cgEYH7P2",
        "outputId": "98046ca6-6607-4fa1-9d66-6e613a55e8da"
      },
      "outputs": [
        {
          "output_type": "stream",
          "name": "stdout",
          "text": [
            "x_train dimensions: (60000, 28, 28, 1)\n",
            "60000 échantillons entraînement\n",
            "10000 échantillons test\n"
          ]
        }
      ],
      "source": [
        "# Transformation des images dans le format approprié.\n",
        "# Il faut ajouter une dimension afin que les images soient des tenseurs.\n",
        "x_train = np.expand_dims(x_train, -1)\n",
        "x_test = np.expand_dims(x_test, -1)\n",
        "print(\"x_train dimensions:\", x_train.shape)\n",
        "print(x_train.shape[0], \"échantillons entraînement\")\n",
        "print(x_test.shape[0], \"échantillons test\")"
      ]
    },
    {
      "cell_type": "code",
      "execution_count": null,
      "metadata": {
        "colab": {
          "base_uri": "https://localhost:8080/"
        },
        "id": "ssszuf_6c-_2",
        "outputId": "571d854a-35e7-400a-f5fe-12d1bbeb206b"
      },
      "outputs": [
        {
          "output_type": "execute_result",
          "data": {
            "text/plain": [
              "(28, 1)"
            ]
          },
          "metadata": {},
          "execution_count": 13
        }
      ],
      "source": [
        "x_train[1,12].shape"
      ]
    },
    {
      "cell_type": "code",
      "source": [
        "x_train[1,12]"
      ],
      "metadata": {
        "colab": {
          "base_uri": "https://localhost:8080/"
        },
        "id": "BCQgpYbAuRcp",
        "outputId": "78cb25bc-0c5a-4446-8186-fb15086ec923"
      },
      "execution_count": null,
      "outputs": [
        {
          "output_type": "execute_result",
          "data": {
            "text/plain": [
              "array([[0.        ],\n",
              "       [0.        ],\n",
              "       [0.        ],\n",
              "       [0.        ],\n",
              "       [0.        ],\n",
              "       [0.        ],\n",
              "       [0.        ],\n",
              "       [0.02745098],\n",
              "       [0.69803923],\n",
              "       [0.9882353 ],\n",
              "       [0.9411765 ],\n",
              "       [0.2784314 ],\n",
              "       [0.07450981],\n",
              "       [0.10980392],\n",
              "       [0.        ],\n",
              "       [0.        ],\n",
              "       [0.        ],\n",
              "       [0.        ],\n",
              "       [0.        ],\n",
              "       [0.        ],\n",
              "       [0.99215686],\n",
              "       [0.9882353 ],\n",
              "       [0.7647059 ],\n",
              "       [0.        ],\n",
              "       [0.        ],\n",
              "       [0.        ],\n",
              "       [0.        ],\n",
              "       [0.        ]], dtype=float32)"
            ]
          },
          "metadata": {},
          "execution_count": 14
        }
      ]
    },
    {
      "cell_type": "markdown",
      "metadata": {
        "id": "Nc9L-rZTNBl_"
      },
      "source": [
        "# Création des étiquettes"
      ]
    },
    {
      "cell_type": "code",
      "execution_count": null,
      "metadata": {
        "colab": {
          "base_uri": "https://localhost:8080/"
        },
        "id": "Gqv5RC_OMzjw",
        "outputId": "05b95751-5506-451b-b9e7-d9d3850a0148"
      },
      "outputs": [
        {
          "output_type": "stream",
          "name": "stdout",
          "text": [
            "[[1. 0. 0. 0.]\n",
            " [0. 1. 0. 0.]\n",
            " [0. 0. 1. 0.]\n",
            " [0. 0. 0. 1.]]\n"
          ]
        }
      ],
      "source": [
        "# La méthode to_categorical permet l'encodage «one-hot».\n",
        "# La méthode est valable si les catégories sont représentées par des entiers.\n",
        "a = to_categorical([0, 1, 2, 3], num_classes=4)\n",
        "print(a)"
      ]
    },
    {
      "cell_type": "code",
      "execution_count": null,
      "metadata": {
        "id": "NxQWx9g_HeMR"
      },
      "outputs": [],
      "source": [
        "y_train = to_categorical(y_train, num_classes)\n",
        "y_test = to_categorical(y_test, num_classes)"
      ]
    },
    {
      "cell_type": "code",
      "execution_count": null,
      "metadata": {
        "colab": {
          "base_uri": "https://localhost:8080/"
        },
        "id": "ATMmxTVvB-uK",
        "outputId": "3f90e2f5-251e-4ca9-99ea-39355985d49f"
      },
      "outputs": [
        {
          "output_type": "execute_result",
          "data": {
            "text/plain": [
              "array([0., 0., 0., 1., 0., 0., 0., 0., 0., 0.], dtype=float32)"
            ]
          },
          "metadata": {},
          "execution_count": 17
        }
      ],
      "source": [
        "y_train[12]"
      ]
    },
    {
      "cell_type": "markdown",
      "metadata": {
        "id": "x7jdqoCLIjKy"
      },
      "source": [
        "# Construction du réseau"
      ]
    },
    {
      "cell_type": "code",
      "execution_count": null,
      "metadata": {
        "colab": {
          "base_uri": "https://localhost:8080/"
        },
        "id": "kTsz4TcHIg2C",
        "outputId": "a5e022fa-9c41-4d26-9dfd-b5bf2e0da090"
      },
      "outputs": [
        {
          "output_type": "stream",
          "name": "stdout",
          "text": [
            "Model: \"sequential\"\n",
            "_________________________________________________________________\n",
            " Layer (type)                Output Shape              Param #   \n",
            "=================================================================\n",
            " conv2d (Conv2D)             (None, 14, 14, 16)        160       \n",
            "                                                                 \n",
            " conv2d_1 (Conv2D)           (None, 7, 7, 32)          4640      \n",
            "                                                                 \n",
            " conv2d_2 (Conv2D)           (None, 7, 7, 32)          9248      \n",
            "                                                                 \n",
            " flatten (Flatten)           (None, 1568)              0         \n",
            "                                                                 \n",
            " dropout (Dropout)           (None, 1568)              0         \n",
            "                                                                 \n",
            " dense (Dense)               (None, 10)                15690     \n",
            "                                                                 \n",
            "=================================================================\n",
            "Total params: 29738 (116.16 KB)\n",
            "Trainable params: 29738 (116.16 KB)\n",
            "Non-trainable params: 0 (0.00 Byte)\n",
            "_________________________________________________________________\n"
          ]
        }
      ],
      "source": [
        "# L'API Sequential rend possible l'assemblage d'un réseau de neurones.\n",
        "# À ce stade, seulement le réseau est défini ; l'entraînement s'accomplira plus tard.\n",
        "# Il est possible d'éviter le pooling et de la remplacer par un stride.\n",
        "modele = Sequential(\n",
        "    [\n",
        "        Input(shape=input_shape),\n",
        "        Conv2D(16, kernel_size=(3, 3), strides=(2,2), activation=\"relu\", padding='same'),\n",
        "        #MaxPooling2D(pool_size=(2, 2)),\n",
        "        Conv2D(32, kernel_size=(3, 3), strides=(2,2), activation=\"relu\", padding='same'),\n",
        "        #MaxPooling2D(pool_size=(2, 2)),\n",
        "        Conv2D(32, kernel_size=(3, 3), strides=(1,1), activation=\"relu\", padding='same'),\n",
        "        Flatten(),\n",
        "        Dropout(0.2),\n",
        "        Dense(num_classes, activation=\"softmax\"),\n",
        "    ]\n",
        ")\n",
        "\n",
        "# La méthode summary affiche un résumé du réseau.\n",
        "modele.summary()"
      ]
    },
    {
      "cell_type": "markdown",
      "metadata": {
        "id": "uhaS9d3ZIqv7"
      },
      "source": [
        "# Entraînement du réseau"
      ]
    },
    {
      "cell_type": "code",
      "execution_count": null,
      "metadata": {
        "colab": {
          "base_uri": "https://localhost:8080/"
        },
        "id": "VRciU-41IqV3",
        "outputId": "b53ea65c-f9b9-46a3-aa3b-44de814fb0c2"
      },
      "outputs": [
        {
          "output_type": "stream",
          "name": "stdout",
          "text": [
            "Epoch 1/15\n",
            "422/422 [==============================] - 4s 8ms/step - loss: 0.3801 - accuracy: 0.8856 - val_loss: 0.1076 - val_accuracy: 0.9698\n",
            "Epoch 2/15\n",
            "422/422 [==============================] - 3s 7ms/step - loss: 0.1132 - accuracy: 0.9662 - val_loss: 0.0713 - val_accuracy: 0.9787\n",
            "Epoch 3/15\n",
            "422/422 [==============================] - 3s 6ms/step - loss: 0.0799 - accuracy: 0.9751 - val_loss: 0.0552 - val_accuracy: 0.9842\n",
            "Epoch 4/15\n",
            "422/422 [==============================] - 3s 6ms/step - loss: 0.0628 - accuracy: 0.9808 - val_loss: 0.0487 - val_accuracy: 0.9858\n",
            "Epoch 5/15\n",
            "422/422 [==============================] - 3s 7ms/step - loss: 0.0532 - accuracy: 0.9833 - val_loss: 0.0458 - val_accuracy: 0.9865\n",
            "Epoch 6/15\n",
            "422/422 [==============================] - 3s 6ms/step - loss: 0.0468 - accuracy: 0.9858 - val_loss: 0.0470 - val_accuracy: 0.9868\n",
            "Epoch 7/15\n",
            "422/422 [==============================] - 3s 7ms/step - loss: 0.0400 - accuracy: 0.9872 - val_loss: 0.0436 - val_accuracy: 0.9883\n",
            "Epoch 8/15\n",
            "422/422 [==============================] - 3s 7ms/step - loss: 0.0377 - accuracy: 0.9882 - val_loss: 0.0428 - val_accuracy: 0.9875\n",
            "Epoch 9/15\n",
            "422/422 [==============================] - 3s 7ms/step - loss: 0.0337 - accuracy: 0.9891 - val_loss: 0.0386 - val_accuracy: 0.9903\n",
            "Epoch 10/15\n",
            "422/422 [==============================] - 3s 7ms/step - loss: 0.0303 - accuracy: 0.9902 - val_loss: 0.0408 - val_accuracy: 0.9902\n",
            "Epoch 11/15\n",
            "422/422 [==============================] - 3s 6ms/step - loss: 0.0278 - accuracy: 0.9909 - val_loss: 0.0410 - val_accuracy: 0.9897\n",
            "Epoch 12/15\n",
            "422/422 [==============================] - 3s 6ms/step - loss: 0.0255 - accuracy: 0.9915 - val_loss: 0.0399 - val_accuracy: 0.9907\n",
            "Epoch 13/15\n",
            "422/422 [==============================] - 3s 6ms/step - loss: 0.0242 - accuracy: 0.9916 - val_loss: 0.0438 - val_accuracy: 0.9887\n",
            "Epoch 14/15\n",
            "422/422 [==============================] - 3s 7ms/step - loss: 0.0212 - accuracy: 0.9927 - val_loss: 0.0384 - val_accuracy: 0.9907\n",
            "Epoch 15/15\n",
            "422/422 [==============================] - 3s 7ms/step - loss: 0.0206 - accuracy: 0.9928 - val_loss: 0.0387 - val_accuracy: 0.9905\n"
          ]
        }
      ],
      "source": [
        "# L'entraînement sera en calculant une moyenne sur 128 échantillon.\n",
        "# 15 passage seront effectués sur les paramètres du réseau.\n",
        "batch_size = 128\n",
        "epochs = 15\n",
        "# Le modèle doit être compilé avant d'être entraîné.\n",
        "modele.compile(loss=\"categorical_crossentropy\", optimizer=\"adam\", metrics=[\"accuracy\"])\n",
        "\n",
        "# Fit effectue l'entraînement.\n",
        "# validation_split=0.1 met de côté 10% des données pour effectuer la validation.\n",
        "# validation_data=(x_test, y_test) aurait permis d'employer les données prévues à cet effet.\n",
        "histoire = modele.fit(x_train, y_train, batch_size=batch_size, epochs=epochs, validation_split=0.1)"
      ]
    },
    {
      "cell_type": "code",
      "execution_count": null,
      "metadata": {
        "colab": {
          "base_uri": "https://localhost:8080/",
          "height": 472
        },
        "id": "eakSVQWRgi5q",
        "outputId": "af9fa4ba-0a56-4f1e-a227-b18dde5a3439"
      },
      "outputs": [
        {
          "output_type": "display_data",
          "data": {
            "text/plain": [
              "<Figure size 640x480 with 1 Axes>"
            ],
            "image/png": "[encoded data removed]"
          },
          "metadata": {}
        }
      ],
      "source": [
        "def plot_hist(hist):\n",
        "    plt.plot(hist.history[\"accuracy\"])\n",
        "    plt.plot(hist.history[\"val_accuracy\"])\n",
        "    plt.title(\"Précision du modèle\")\n",
        "    plt.ylabel(\"précision\")\n",
        "    plt.xlabel(\"epoch\")\n",
        "    plt.legend([\"train\", \"validation\"], loc=\"upper left\")\n",
        "    plt.show()\n",
        "\n",
        "\n",
        "plot_hist(histoire)"
      ]
    },
    {
      "cell_type": "code",
      "source": [
        "def plot_lost(hist):\n",
        "    plt.plot(hist.history[\"loss\"])\n",
        "    plt.plot(hist.history[\"val_loss\"])\n",
        "    plt.title(\"Perte du modèle\")\n",
        "    plt.ylabel(\"perte\")\n",
        "    plt.xlabel(\"époque\")\n",
        "    plt.legend([\"entraînement\", \"validation\"], loc=\"upper left\")\n",
        "    plt.show()\n",
        "\n",
        "\n",
        "plot_lost(histoire)"
      ],
      "metadata": {
        "id": "y1Y_XbBF0S4t",
        "outputId": "a9fb8921-09f0-41c9-d84f-fcde3f5fc959",
        "colab": {
          "base_uri": "https://localhost:8080/",
          "height": 472
        }
      },
      "execution_count": null,
      "outputs": [
        {
          "output_type": "display_data",
          "data": {
            "text/plain": [
              "<Figure size 640x480 with 1 Axes>"
            ],
            "image/png": "[encoded data removed]"
          },
          "metadata": {}
        }
      ]
    },
    {
      "cell_type": "markdown",
      "source": [
        "# Validation du réseau"
      ],
      "metadata": {
        "id": "g0ghBy49bJQ-"
      }
    },
    {
      "cell_type": "code",
      "execution_count": null,
      "metadata": {
        "colab": {
          "base_uri": "https://localhost:8080/"
        },
        "id": "3FstjWK6iclm",
        "outputId": "e1593605-17ec-4538-e205-2d43fb70a65b"
      },
      "outputs": [
        {
          "output_type": "stream",
          "name": "stdout",
          "text": [
            "79/79 [==============================] - 0s 3ms/step - loss: 0.0359 - accuracy: 0.9891\n"
          ]
        },
        {
          "output_type": "execute_result",
          "data": {
            "text/plain": [
              "[0.03589145094156265, 0.9890999794006348]"
            ]
          },
          "metadata": {},
          "execution_count": 22
        }
      ],
      "source": [
        "# evaluate valide le réseau sur des données inutilisées pour l'entraînement.\n",
        "modele.evaluate(x_test, y_test, batch_size=batch_size)"
      ]
    }
  ],
  "metadata": {
    "colab": {
      "provenance": [],
      "machine_shape": "hm",
      "gpuType": "V28",
      "authorship_tag": "ABX9TyN9o1BlFY9qyDM7dq+6IGE2",
      "include_colab_link": true
    },
    "kernelspec": {
      "display_name": "Python 3",
      "name": "python3"
    },
    "language_info": {
      "name": "python"
    },
    "accelerator": "TPU"
  },
  "nbformat": 4,
  "nbformat_minor": 0
}
